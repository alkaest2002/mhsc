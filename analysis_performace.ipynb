{
 "cells": [
  {
   "cell_type": "code",
   "execution_count": 47,
   "id": "ae7267d1",
   "metadata": {},
   "outputs": [],
   "source": [
    "# imports\n",
    "import numpy as np\n",
    "import pandas as pd\n",
    "from pyod.models.iforest import IForest\n",
    "from sklearn.preprocessing import OneHotEncoder\n",
    "\n",
    "pd.set_option(\"display.max_rows\", None)"
   ]
  },
  {
   "cell_type": "code",
   "execution_count": 33,
   "id": "61d2224c",
   "metadata": {},
   "outputs": [],
   "source": [
    "def create_dataset(n):\n",
    "    return np.c_[\n",
    "        np.random.randint(0,2,(n,10)),\n",
    "        np.random.randint(0,3,(n,5)),\n",
    "        np.random.randint(0,2,(n,5)),\n",
    "        np.random.randint(0,10,(n,1))\n",
    "    ]\n",
    "    \n",
    "\n",
    "data_k10 = create_dataset(10_000)\n",
    "data_k100 = create_dataset(100_000)\n",
    "data_k500 = create_dataset(500_000)"
   ]
  },
  {
   "cell_type": "code",
   "execution_count": 81,
   "id": "ae11f712",
   "metadata": {},
   "outputs": [],
   "source": [
    "def simulate_isolation_forest(data):\n",
    "    isof = IForest()\n",
    "    isof.fit(data)\n",
    "    isof.decision_function(data)    "
   ]
  },
  {
   "cell_type": "code",
   "execution_count": 82,
   "id": "cf1ec41d",
   "metadata": {},
   "outputs": [
    {
     "name": "stdout",
     "output_type": "stream",
     "text": [
      "574 ms ± 5.83 ms per loop (mean ± std. dev. of 7 runs, 1 loop each)\n",
      "5.35 s ± 61.6 ms per loop (mean ± std. dev. of 7 runs, 1 loop each)\n",
      "25.9 s ± 80.6 ms per loop (mean ± std. dev. of 7 runs, 1 loop each)\n"
     ]
    }
   ],
   "source": [
    "for dataset in [data_k10, data_k100, data_k500]:\n",
    "    %timeit simulate_isolation_forest(dataset)"
   ]
  },
  {
   "cell_type": "code",
   "execution_count": 83,
   "id": "b629a209",
   "metadata": {},
   "outputs": [],
   "source": [
    "def count_duplicates(data):\n",
    "    converted = np.apply_along_axis(lambda x:''.join(map(str, x)), 1, arr=data)\n",
    "    return np.unique(converted, return_counts=True)"
   ]
  },
  {
   "cell_type": "code",
   "execution_count": 84,
   "id": "dd7cc767",
   "metadata": {},
   "outputs": [
    {
     "name": "stdout",
     "output_type": "stream",
     "text": [
      "67.2 ms ± 743 µs per loop (mean ± std. dev. of 7 runs, 10 loops each)\n",
      "679 ms ± 2.25 ms per loop (mean ± std. dev. of 7 runs, 1 loop each)\n",
      "3.41 s ± 16.4 ms per loop (mean ± std. dev. of 7 runs, 1 loop each)\n"
     ]
    }
   ],
   "source": [
    "for dataset in [data_k10, data_k100, data_k500]:\n",
    "    %timeit count_duplicates(dataset)"
   ]
  },
  {
   "cell_type": "code",
   "execution_count": null,
   "id": "a5d81d93",
   "metadata": {},
   "outputs": [],
   "source": []
  }
 ],
 "metadata": {
  "kernelspec": {
   "display_name": "Python 3 (ipykernel)",
   "language": "python",
   "name": "python3"
  },
  "language_info": {
   "codemirror_mode": {
    "name": "ipython",
    "version": 3
   },
   "file_extension": ".py",
   "mimetype": "text/x-python",
   "name": "python",
   "nbconvert_exporter": "python",
   "pygments_lexer": "ipython3",
   "version": "3.10.6"
  }
 },
 "nbformat": 4,
 "nbformat_minor": 5
}
